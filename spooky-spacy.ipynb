{
 "cells": [
  {
   "cell_type": "markdown",
   "metadata": {},
   "source": [
    "https://www.kaggle.com/c/spooky-author-identification/data    \n",
    "https://www.kaggle.com/enerrio/scary-nlp-with-spacy-and-keras/notebook"
   ]
  },
  {
   "cell_type": "code",
   "execution_count": 1,
   "metadata": {},
   "outputs": [],
   "source": [
    "import numpy as np\n",
    "import pandas as pd\n",
    "import seaborn as sns\n",
    "import matplotlib.pyplot as plt\n",
    "import string\n",
    "from collections import Counter\n",
    "from time import time\n",
    "from sklearn.preprocessing import label_binarize\n",
    "import spacy"
   ]
  },
  {
   "cell_type": "code",
   "execution_count": 2,
   "metadata": {},
   "outputs": [],
   "source": [
    "# Load training and testing text\n",
    "train = pd.read_csv('train.csv', skiprows=1, names=['ID', 'Text', 'Author']).set_index('ID')\n",
    "test = pd.read_csv('test.csv', skiprows=1, names=['ID', 'Text']).set_index('ID')\n",
    "\n",
    "# Delete the word 'id' from the ID columns\n",
    "train.index = [id[2:] for id in train.index]\n",
    "test.index = [id[2:] for id in test.index]"
   ]
  },
  {
   "cell_type": "code",
   "execution_count": 3,
   "metadata": {},
   "outputs": [
    {
     "name": "stdout",
     "output_type": "stream",
     "text": [
      "Training Data Shape: (19579, 2)\n",
      "Testing Data Shape: (8392, 1)\n"
     ]
    }
   ],
   "source": [
    "print('Training Data Shape:', train.shape)\n",
    "print('Testing Data Shape:', test.shape)"
   ]
  },
  {
   "cell_type": "code",
   "execution_count": 4,
   "metadata": {},
   "outputs": [
    {
     "data": {
      "image/png": "[encoded data removed]",
      "text/plain": [
       "<Figure size 432x288 with 1 Axes>"
      ]
     },
     "metadata": {
      "needs_background": "light"
     },
     "output_type": "display_data"
    }
   ],
   "source": [
    "# Barplot of occurances of each author in the training dataset\n",
    "sns.barplot(x=['Edgar Allen Poe', 'Mary Wollstonecraft Shelley', 'H.P. Lovecraft'], y=train['Author'].value_counts())\n",
    "plt.show()"
   ]
  },
  {
   "cell_type": "code",
   "execution_count": 5,
   "metadata": {},
   "outputs": [],
   "source": [
    "# Load spacy's predefined word vectors.\n",
    "nlp = spacy.load('en_core_web_sm')"
   ]
  },
  {
   "cell_type": "markdown",
   "metadata": {},
   "source": [
    "### Clean text before feeding it to spaCy"
   ]
  },
  {
   "cell_type": "code",
   "execution_count": 19,
   "metadata": {},
   "outputs": [
    {
     "data": {
      "text/plain": [
       "305"
      ]
     },
     "execution_count": 19,
     "metadata": {},
     "output_type": "execute_result"
    }
   ],
   "source": [
    "# Let's use the spacy default list of stopwords.\n",
    "stopwords=nlp.Defaults.stop_words\n",
    "len(stopwords)"
   ]
  },
  {
   "cell_type": "code",
   "execution_count": 20,
   "metadata": {},
   "outputs": [
    {
     "data": {
      "text/plain": [
       "'!\"#$%&\\'()*+,-./:;<=>?@[\\\\]^_`{|}~'"
      ]
     },
     "execution_count": 20,
     "metadata": {},
     "output_type": "execute_result"
    }
   ],
   "source": [
    "# and also the predefined list of punctuation.\n",
    "punctuations = string.punctuation\n",
    "punctuations"
   ]
  },
  {
   "cell_type": "markdown",
   "metadata": {},
   "source": [
    "### Here's an example of what this looks like for one text:"
   ]
  },
  {
   "cell_type": "code",
   "execution_count": 28,
   "metadata": {},
   "outputs": [
    {
     "data": {
      "text/plain": [
       "'This process, however, afforded me no means of ascertaining the dimensions of my dungeon; as I might make its circuit, and return to the point whence I set out, without being aware of the fact; so perfectly uniform seemed the wall.'"
      ]
     },
     "execution_count": 28,
     "metadata": {},
     "output_type": "execute_result"
    }
   ],
   "source": [
    "doc=train['Text'][0]\n",
    "doc"
   ]
  },
  {
   "cell_type": "code",
   "execution_count": 30,
   "metadata": {},
   "outputs": [
    {
     "data": {
      "text/plain": [
       "This process, however, afforded me no means of ascertaining the dimensions of my dungeon; as I might make its circuit, and return to the point whence I set out, without being aware of the fact; so perfectly uniform seemed the wall."
      ]
     },
     "execution_count": 30,
     "metadata": {},
     "output_type": "execute_result"
    }
   ],
   "source": [
    "doc = nlp(doc, disable=['parser', 'ner'])\n",
    "doc"
   ]
  },
  {
   "cell_type": "code",
   "execution_count": 34,
   "metadata": {},
   "outputs": [
    {
     "data": {
      "text/plain": [
       "['this', 'process', ',', 'however', ',', 'afford']"
      ]
     },
     "execution_count": 34,
     "metadata": {},
     "output_type": "execute_result"
    }
   ],
   "source": [
    "tokens = [tok.lemma_.lower().strip() for tok in doc if tok.lemma_ != '-PRON-']\n",
    "tokens[:6]"
   ]
  },
  {
   "cell_type": "code",
   "execution_count": 35,
   "metadata": {},
   "outputs": [
    {
     "data": {
      "text/plain": [
       "['process', 'afford', 'mean', 'ascertain', 'dimension']"
      ]
     },
     "execution_count": 35,
     "metadata": {},
     "output_type": "execute_result"
    }
   ],
   "source": [
    "tokens = [tok for tok in tokens if tok not in stopwords and tok not in punctuations]\n",
    "tokens[:5]"
   ]
  },
  {
   "cell_type": "code",
   "execution_count": 36,
   "metadata": {},
   "outputs": [
    {
     "data": {
      "text/plain": [
       "'process afford mean ascertain dimension dungeon circuit return point set aware fact perfectly uniform wall'"
      ]
     },
     "execution_count": 36,
     "metadata": {},
     "output_type": "execute_result"
    }
   ],
   "source": [
    "tokens = ' '.join(tokens)\n",
    "tokens"
   ]
  },
  {
   "cell_type": "code",
   "execution_count": 39,
   "metadata": {},
   "outputs": [
    {
     "data": {
      "text/plain": [
       "['process afford mean ascertain dimension dungeon circuit return point set aware fact perfectly uniform wall']"
      ]
     },
     "execution_count": 39,
     "metadata": {},
     "output_type": "execute_result"
    }
   ],
   "source": [
    "texts=[]\n",
    "texts.append(tokens)\n",
    "texts"
   ]
  },
  {
   "cell_type": "code",
   "execution_count": 40,
   "metadata": {},
   "outputs": [
    {
     "data": {
      "text/plain": [
       "0    process afford mean ascertain dimension dungeo...\n",
       "dtype: object"
      ]
     },
     "execution_count": 40,
     "metadata": {},
     "output_type": "execute_result"
    }
   ],
   "source": [
    "train_cleaned=pd.Series(texts)\n",
    "train_cleaned"
   ]
  },
  {
   "cell_type": "markdown",
   "metadata": {},
   "source": [
    "#### This is where we apply the magic.\n",
    "We want to extract the doc vectors."
   ]
  },
  {
   "cell_type": "code",
   "execution_count": 49,
   "metadata": {},
   "outputs": [
    {
     "data": {
      "text/plain": [
       "<generator object Language.pipe at 0x000001C18277BCF0>"
      ]
     },
     "execution_count": 49,
     "metadata": {},
     "output_type": "execute_result"
    }
   ],
   "source": [
    "# What does nlp.pipe mean?\n",
    "nlp.pipe(train_cleaned, batch_size=500)"
   ]
  },
  {
   "cell_type": "markdown",
   "metadata": {},
   "source": [
    "The .pipe() method accepts an iterator (above, texts), and produces an iterator. Internally, a buffer is accumulated (given by the batch_size argument, and multiple threads are allowed to work on the batch simultaneously. Once the batch is complete, the processed documents are yielded from the iterator.   \n",
    "https://spacy.io/usage/processing-pipelines#_title   \n",
    "\n",
    "With a small dataset like ours, the `pipe()` method may actually not improve speed. For a discussion, see here: https://github.com/explosion/spaCy/issues/2457"
   ]
  },
  {
   "cell_type": "code",
   "execution_count": 52,
   "metadata": {},
   "outputs": [
    {
     "name": "stdout",
     "output_type": "stream",
     "text": [
      "process afford mean ascertain dimension dungeon circuit return point set aware fact perfectly uniform wall\n"
     ]
    }
   ],
   "source": [
    "for doc in nlp.pipe(train_cleaned, batch_size=500):\n",
    "    print(doc)"
   ]
  },
  {
   "cell_type": "code",
   "execution_count": 55,
   "metadata": {},
   "outputs": [
    {
     "name": "stdout",
     "output_type": "stream",
     "text": [
      "[ 1.0476121e-01  2.3563533e-01  1.1642744e-01 -5.1357806e-01\n",
      " -7.0594954e-01  7.1790761e-01 -3.6895845e+00  5.3046930e-01\n",
      "  7.9044694e-01  1.0269741e+00  2.4017451e+00 -2.0028777e+00\n",
      "  4.7862008e-01  7.9244715e-01 -2.4165776e+00 -2.2602086e-01\n",
      " -2.8694737e+00 -1.4366758e+00 -1.1208347e+00  7.4641931e-01\n",
      "  2.0910411e+00  3.4391001e-01  4.2376930e-01  5.1758146e-01\n",
      " -3.8994586e-01 -2.0091887e+00  2.5123468e-01  2.2551560e+00\n",
      " -4.1971320e-01 -6.4928018e-02 -9.9156898e-01  2.9985988e-01\n",
      "  6.8709689e-01 -3.3587897e-01 -1.2926331e+00 -9.9748838e-01\n",
      "  1.9331013e+00 -5.0762230e-01  1.3239610e+00  3.6108080e-01\n",
      " -1.3520045e+00 -4.8931080e-01  1.3091699e+00  1.1037768e+00\n",
      " -1.9580992e-01  7.6484972e-01 -1.1280066e+00 -1.2946528e+00\n",
      "  2.0583148e+00 -6.2141681e-01  1.5940531e+00 -1.1652075e+00\n",
      " -8.8208187e-01  3.2341394e+00  5.6179976e-01 -8.9787710e-01\n",
      "  3.2376616e+00  2.3223841e+00 -1.1888937e+00 -8.2781399e-03\n",
      " -1.3797412e+00  8.6898655e-01 -1.6932533e+00  1.1103157e+00\n",
      "  1.5140477e+00 -5.9619665e-02 -2.5948186e+00 -2.1304603e+00\n",
      "  4.0807348e-01  8.8391691e-01 -1.2231086e+00 -1.2076499e+00\n",
      " -3.0357635e-01  5.8900702e-01 -2.0439024e+00  9.7847790e-01\n",
      " -2.7160510e-01  9.8371786e-01 -1.1780030e+00  6.8008631e-01\n",
      " -1.7963361e+00  1.2916794e-01 -1.6726958e+00 -1.2662399e+00\n",
      "  2.3215141e+00  8.8823766e-01 -1.0187670e+00  8.2351309e-01\n",
      " -7.0480853e-01  1.0550988e+00 -1.8775716e+00  2.6805513e+00\n",
      " -1.2118436e+00  3.5026520e-01 -2.3076825e+00  1.3865377e+00\n",
      " -1.2373747e+00  3.9465317e-01  7.2197229e-01 -1.7474493e-03\n",
      " -1.7416819e+00  2.2917871e+00 -4.4874719e-01 -2.0379662e-03\n",
      "  3.5125870e-01  7.9244578e-01 -3.3551165e-01 -2.4625823e+00\n",
      " -1.7797569e+00 -5.8567101e-01  3.8833845e-01 -2.1195080e+00\n",
      " -1.6221352e+00 -2.6324421e-01  2.0674200e+00  1.1705501e+00\n",
      " -7.4850625e-01  1.8665475e+00  1.9961619e+00  1.7597380e-01\n",
      "  1.8832855e+00  3.9960578e-01  6.6912740e-01 -1.2577625e-01\n",
      "  1.9137338e+00 -1.0443548e+00  2.8769917e+00 -2.6110835e+00]\n",
      "128\n"
     ]
    }
   ],
   "source": [
    "for doc in nlp.pipe(train_cleaned, batch_size=500):\n",
    "    print(doc.vector)\n",
    "    print(len(doc.vector))"
   ]
  },
  {
   "cell_type": "code",
   "execution_count": 44,
   "metadata": {},
   "outputs": [
    {
     "data": {
      "text/plain": [
       "array([ 0.10476121,  0.23563533,  0.11642744, -0.51357806, -0.70594954,\n",
       "        0.7179076 , -3.6895845 ,  0.5304693 ,  0.79044694,  1.0269741 ],\n",
       "      dtype=float32)"
      ]
     },
     "execution_count": 44,
     "metadata": {},
     "output_type": "execute_result"
    }
   ],
   "source": [
    "train_vec = []\n",
    "for doc in nlp.pipe(train_cleaned, batch_size=500):\n",
    "    train_vec.append(doc.vector)\n",
    "train_vec[0][:10]"
   ]
  },
  {
   "cell_type": "code",
   "execution_count": 53,
   "metadata": {},
   "outputs": [
    {
     "name": "stdout",
     "output_type": "stream",
     "text": [
      "1\n",
      "128\n",
      "1\n",
      "106\n",
      "1\n"
     ]
    }
   ],
   "source": [
    "# why is it length 128? and is this the same for every text?\n",
    "print(len(train_vec))\n",
    "print(len(train_vec[0]))\n",
    "print(len(texts))\n",
    "print(len(tokens))\n",
    "print(len(train_cleaned))"
   ]
  },
  {
   "cell_type": "markdown",
   "metadata": {},
   "source": [
    "#### Apparently 128 is an important number for spacy vectors.\n",
    "spaCy comes with built-in support for loading GloVe vectors from a directory. The Vectors.from_glove method assumes a binary format, the vocab provided in a vocab.txt, and the naming scheme of vectors.There are 2 pretrained glove vectors to choose from, of dimensions 128 and 300.\n",
    "* vectors.128.f.bin\t128\tfloat32\n",
    "* vectors.300.d.bin\t300\tfloat64 (double)   \n",
    "https://spacy.io/usage/vectors-similarity\n",
    "\n",
    "See also this note from Jeff Nicolech:\n",
    "When you disable 'parser' and 'ner', you are left with \"quasi\" word vectors (but not really) with a shape of (128,). Thus, the remaining code needs to be adapted for inputs of dimension 128. Alternately, you could download pre-trained GloVe vectors which would have the same shape (300,) as the Word2Vec vectors.\n",
    "https://www.kaggle.com/enerrio/scary-nlp-with-spacy-and-keras"
   ]
  },
  {
   "cell_type": "markdown",
   "metadata": {},
   "source": [
    "### Now, as a pipeline."
   ]
  },
  {
   "cell_type": "code",
   "execution_count": 7,
   "metadata": {},
   "outputs": [],
   "source": [
    "# Define function to cleanup text by removing personal pronouns, stopwords, and puncuation\n",
    "def cleanup_text(docs, logging=False):\n",
    "    texts = []\n",
    "    counter = 1\n",
    "    for doc in docs:\n",
    "        if counter % 1000 == 0 and logging:\n",
    "            print(\"Processed %d out of %d documents.\" % (counter, len(docs)))\n",
    "        counter += 1\n",
    "        doc = nlp(doc, disable=['parser', 'ner'])\n",
    "        tokens = [tok.lemma_.lower().strip() for tok in doc if tok.lemma_ != '-PRON-']\n",
    "        tokens = [tok for tok in tokens if tok not in stopwords and tok not in punctuations]\n",
    "        tokens = ' '.join(tokens)\n",
    "        texts.append(tokens)\n",
    "    return pd.Series(texts)"
   ]
  },
  {
   "cell_type": "code",
   "execution_count": 14,
   "metadata": {},
   "outputs": [
    {
     "name": "stdout",
     "output_type": "stream",
     "text": [
      "Original training data shape:  (19579,)\n",
      "Processed 1000 out of 19579 documents.\n",
      "Processed 2000 out of 19579 documents.\n",
      "Processed 3000 out of 19579 documents.\n",
      "Processed 4000 out of 19579 documents.\n",
      "Processed 5000 out of 19579 documents.\n",
      "Processed 6000 out of 19579 documents.\n",
      "Processed 7000 out of 19579 documents.\n",
      "Processed 8000 out of 19579 documents.\n",
      "Processed 9000 out of 19579 documents.\n",
      "Processed 10000 out of 19579 documents.\n",
      "Processed 11000 out of 19579 documents.\n",
      "Processed 12000 out of 19579 documents.\n",
      "Processed 13000 out of 19579 documents.\n",
      "Processed 14000 out of 19579 documents.\n",
      "Processed 15000 out of 19579 documents.\n",
      "Processed 16000 out of 19579 documents.\n",
      "Processed 17000 out of 19579 documents.\n",
      "Processed 18000 out of 19579 documents.\n",
      "Processed 19000 out of 19579 documents.\n",
      "Cleaned up training data shape:  (19579,)\n"
     ]
    }
   ],
   "source": [
    "# Cleanup text and make sure it retains original shape\n",
    "print('Original training data shape: ', train['Text'].shape)\n",
    "train_cleaned = cleanup_text(train['Text'], logging=True)\n",
    "print('Cleaned up training data shape: ', train_cleaned.shape)\n",
    "assert train['Text'].shape==train_cleaned.shape"
   ]
  },
  {
   "cell_type": "code",
   "execution_count": 15,
   "metadata": {},
   "outputs": [
    {
     "name": "stdout",
     "output_type": "stream",
     "text": [
      "Parsing documents...\n",
      "Total time passed parsing documents: 101.89002442359924 seconds\n",
      "Total number of documents parsed: 19579\n",
      "Number of words in first document:  231\n",
      "Number of words in second document:  71\n",
      "Size of vector embeddings:  128\n",
      "Shape of vectors embeddings matrix:  (19579, 128)\n"
     ]
    }
   ],
   "source": [
    "# Parse documents and print some info\n",
    "print('Parsing documents...')\n",
    "\n",
    "start = time()\n",
    "\n",
    "train_vec = []\n",
    "for doc in nlp.pipe(train_cleaned, batch_size=500):\n",
    "    if doc.has_vector:\n",
    "        train_vec.append(doc.vector)\n",
    "    # If doc doesn't have a vector, then fill it with zeros.\n",
    "    else:\n",
    "        train_vec.append(np.zeros((128,), dtype=\"float32\"))\n",
    "        \n",
    "train_vec = np.array(train_vec)\n",
    "\n",
    "end = time()\n",
    "print('Total time passed parsing documents: {} seconds'.format(end - start))\n",
    "print('Total number of documents parsed: {}'.format(len(train_vec)))\n",
    "print('Number of words in first document: ', len(train['Text'][0]))\n",
    "print('Number of words in second document: ', len(train['Text'][1]))\n",
    "print('Size of vector embeddings: ', train_vec.shape[1])\n",
    "print('Shape of vectors embeddings matrix: ', train_vec.shape)"
   ]
  },
  {
   "cell_type": "code",
   "execution_count": 16,
   "metadata": {},
   "outputs": [
    {
     "data": {
      "text/plain": [
       "128"
      ]
     },
     "execution_count": 16,
     "metadata": {},
     "output_type": "execute_result"
    }
   ],
   "source": [
    "len(train_vec[0])"
   ]
  },
  {
   "cell_type": "code",
   "execution_count": 17,
   "metadata": {},
   "outputs": [],
   "source": [
    "## Pickle the results for use in next step.\n",
    "import pickle\n",
    "file = open('spooky_train_vec.pkl', 'wb')\n",
    "pickle.dump(train_vec, file)\n",
    "file.close()"
   ]
  },
  {
   "cell_type": "markdown",
   "metadata": {},
   "source": [
    "#### Nice to have: Plot most frequent words in each corpus"
   ]
  },
  {
   "cell_type": "code",
   "execution_count": null,
   "metadata": {},
   "outputs": [],
   "source": [
    "def cleaner_upper(text):\n",
    "    cleany = cleanup_text(text)\n",
    "    cleany = ' '.join(cleany).split()\n",
    "    # 's appears a lot in the text, so we get rid of it since it's not a word\n",
    "    cleany = [word for word in cleany if word != '\\'s']\n",
    "    return cleany"
   ]
  },
  {
   "cell_type": "code",
   "execution_count": null,
   "metadata": {},
   "outputs": [],
   "source": [
    "# Grab all text associated with Edgar Allen Poe\n",
    "eap_text = [text for text in train[train['Author'] == 'EAP']['Text']]\n",
    "\n",
    "# Grab all text associated with H.P. Lovecraft\n",
    "hpl_text = [text for text in train[train['Author'] == 'HPL']['Text']]\n",
    "\n",
    "# Grab all text associated with Mary Wollstonecraft Shelley\n",
    "mws_text = [text for text in train[train['Author'] == 'MWS']['Text']]\n",
    "\n",
    "eap_clean=cleaner_upper(eap_text)\n",
    "hpl_clean=cleaner_upper(hpl_text)\n",
    "mws_clean=cleaner_upper(mws_text)"
   ]
  },
  {
   "cell_type": "code",
   "execution_count": null,
   "metadata": {},
   "outputs": [],
   "source": [
    "# Count all unique words\n",
    "eap_counts = Counter(eap_clean)\n",
    "hpl_counts = Counter(hpl_clean)\n",
    "mws_counts = Counter(mws_clean)"
   ]
  },
  {
   "cell_type": "code",
   "execution_count": 18,
   "metadata": {},
   "outputs": [
    {
     "data": {
      "text/plain": [
       "Text(0.5, 1.0, 'Most Common Words used by Edgar Allen Poe')"
      ]
     },
     "execution_count": 18,
     "metadata": {},
     "output_type": "execute_result"
    },
    {
     "data": {
      "image/png": "[encoded data removed]",
      "text/plain": [
       "<Figure size 1080x864 with 1 Axes>"
      ]
     },
     "metadata": {},
     "output_type": "display_data"
    }
   ],
   "source": [
    "# Plot top 25 most frequently occuring words for Edgar Allen Poe\n",
    "eap_common_words = [word[0] for word in eap_counts.most_common(25)]\n",
    "eap_common_counts = [word[1] for word in eap_counts.most_common(25)]\n",
    "\n",
    "# Use spooky background\n",
    "plt.style.use('dark_background')\n",
    "plt.figure(figsize=(15, 12))\n",
    "\n",
    "sns.barplot(x=eap_common_words, y=eap_common_counts)\n",
    "plt.title('Most Common Words used by Edgar Allen Poe')\n",
    "# plt.show()"
   ]
  },
  {
   "cell_type": "code",
   "execution_count": null,
   "metadata": {},
   "outputs": [
    {
     "data": {
      "image/png": "[encoded data removed]",
      "text/plain": [
       "<Figure size 1080x864 with 1 Axes>"
      ]
     },
     "metadata": {},
     "output_type": "display_data"
    }
   ],
   "source": [
    "# Plot top 25 most frequently occuring words for H.P. Lovecraft\n",
    "hpl_common_words = [word[0] for word in hpl_counts.most_common(25)]\n",
    "hpl_common_counts = [word[1] for word in hpl_counts.most_common(25)]\n",
    "\n",
    "plt.figure(figsize=(15, 12))\n",
    "sns.barplot(x=hpl_common_words, y=hpl_common_counts)\n",
    "plt.title('Most Common Words used by H.P. Lovecraft')\n",
    "# plt.show()"
   ]
  },
  {
   "cell_type": "code",
   "execution_count": null,
   "metadata": {},
   "outputs": [
    {
     "data": {
      "image/png": "[encoded data removed]",
      "text/plain": [
       "<Figure size 1080x864 with 1 Axes>"
      ]
     },
     "metadata": {},
     "output_type": "display_data"
    }
   ],
   "source": [
    "# Plot top 25 most frequently occuring words for Mary Wollstonecraft Shelley\n",
    "mws_common_words = [word[0] for word in mws_counts.most_common(25)]\n",
    "mws_common_counts = [word[1] for word in mws_counts.most_common(25)]\n",
    "\n",
    "plt.figure(figsize=(15, 12))\n",
    "sns.barplot(x=mws_common_words, y=mws_common_counts)\n",
    "plt.title('Most Common Words used by Mary Wollstonecraft Shelley')\n",
    "# plt.show()"
   ]
  }
 ],
 "metadata": {
  "kernelspec": {
   "display_name": "spacyenv",
   "language": "python",
   "name": "spacyenv"
  },
  "language_info": {
   "codemirror_mode": {
    "name": "ipython",
    "version": 3
   },
   "file_extension": ".py",
   "mimetype": "text/x-python",
   "name": "python",
   "nbconvert_exporter": "python",
   "pygments_lexer": "ipython3",
   "version": "3.7.1"
  }
 },
 "nbformat": 4,
 "nbformat_minor": 2
}
