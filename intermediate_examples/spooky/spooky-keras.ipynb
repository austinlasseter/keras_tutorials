{
 "cells": [
  {
   "cell_type": "markdown",
   "metadata": {},
   "source": [
    "https://www.kaggle.com/enerrio/scary-nlp-with-spacy-and-keras/notebook"
   ]
  },
  {
   "cell_type": "code",
   "execution_count": 1,
   "metadata": {},
   "outputs": [],
   "source": [
    "import numpy as np \n",
    "import pandas as pd \n",
    "import seaborn as sns\n",
    "import matplotlib.pyplot as plt\n",
    "import string\n",
    "from collections import Counter\n",
    "from time import time\n",
    "import pickle"
   ]
  },
  {
   "cell_type": "code",
   "execution_count": 34,
   "metadata": {},
   "outputs": [],
   "source": [
    "from sklearn.preprocessing import label_binarize\n",
    "from sklearn.model_selection import train_test_split\n",
    "from sklearn.metrics import log_loss"
   ]
  },
  {
   "cell_type": "code",
   "execution_count": 8,
   "metadata": {},
   "outputs": [],
   "source": [
    "from keras.models import Sequential, Model\n",
    "from keras.layers import Dense, Dropout, Input, LSTM, Embedding, Bidirectional, Flatten\n",
    "from keras.layers import Conv1D, MaxPooling1D, GlobalMaxPooling1D\n",
    "from keras.optimizers import SGD"
   ]
  },
  {
   "cell_type": "code",
   "execution_count": 2,
   "metadata": {},
   "outputs": [],
   "source": [
    "# Load training and testing text\n",
    "train = pd.read_csv('train.csv', skiprows=1, names=['ID', 'Text', 'Author']).set_index('ID')\n",
    "test = pd.read_csv('test.csv', skiprows=1, names=['ID', 'Text']).set_index('ID')\n",
    "\n",
    "# Delete the word 'id' from the ID columns\n",
    "train.index = [id[2:] for id in train.index]\n",
    "test.index = [id[2:] for id in test.index]"
   ]
  },
  {
   "cell_type": "code",
   "execution_count": 4,
   "metadata": {},
   "outputs": [],
   "source": [
    "# unpickle the final model\n",
    "file = open('spooky_train_vec.pkl', 'rb')\n",
    "train_vec=pickle.load(file)\n",
    "file.close()"
   ]
  },
  {
   "cell_type": "code",
   "execution_count": 5,
   "metadata": {},
   "outputs": [
    {
     "name": "stdout",
     "output_type": "stream",
     "text": [
      "y_train_ohe shape: (19579, 3)\n",
      "y_train_ohe samples:\n",
      "[[1 0 0]\n",
      " [0 1 0]\n",
      " [1 0 0]\n",
      " [0 0 1]\n",
      " [0 1 0]]\n"
     ]
    }
   ],
   "source": [
    "# Transform labels into one hot encoded format.\n",
    "y_train_ohe = label_binarize(train['Author'], classes=['EAP', 'HPL', 'MWS'])\n",
    "print('y_train_ohe shape: {}'.format(y_train_ohe.shape))\n",
    "print('y_train_ohe samples:')\n",
    "print(y_train_ohe[:5])"
   ]
  },
  {
   "cell_type": "code",
   "execution_count": 6,
   "metadata": {},
   "outputs": [
    {
     "name": "stdout",
     "output_type": "stream",
     "text": [
      "X_train size: (15663, 128)\n",
      "X_test size: (3916, 128)\n",
      "y_train size: (15663, 3)\n",
      "y_test size: (3916, 3)\n"
     ]
    }
   ],
   "source": [
    "# If using spaCy word vectors\n",
    "X_train, X_test, y_train, y_test = train_test_split(train_vec, y_train_ohe, test_size=0.2, random_state=21)\n",
    "\n",
    "print('X_train size: {}'.format(X_train.shape))\n",
    "print('X_test size: {}'.format(X_test.shape))\n",
    "print('y_train size: {}'.format(y_train.shape))\n",
    "print('y_test size: {}'.format(y_test.shape))"
   ]
  },
  {
   "cell_type": "code",
   "execution_count": 22,
   "metadata": {},
   "outputs": [],
   "source": [
    "def build_model(architecture='mlp'):\n",
    "    model = Sequential()\n",
    "    if architecture == 'mlp':\n",
    "        # Densely Connected Neural Network (Multi-Layer Perceptron)\n",
    "        model.add(Dense(512, activation='relu', kernel_initializer='he_normal', input_dim=128))\n",
    "        model.add(Dropout(0.2))\n",
    "        model.add(Dense(512, activation='relu', kernel_initializer='he_normal'))\n",
    "        model.add(Dropout(0.2))\n",
    "        model.add(Dense(512, activation='relu', kernel_initializer='he_normal'))\n",
    "        model.add(Dropout(0.2))\n",
    "        model.add(Dense(512, activation='relu', kernel_initializer='he_normal'))\n",
    "        model.add(Dropout(0.2))\n",
    "        model.add(Dense(3, activation='softmax'))\n",
    "    elif architecture == 'cnn':\n",
    "        # 1-D Convolutional Neural Network\n",
    "        inputs = Input(shape=(128,1))\n",
    "\n",
    "        x = Conv1D(64, 3, strides=1, padding='same', activation='relu')(inputs)\n",
    "\n",
    "        #Cuts the size of the output in half, maxing over every 2 inputs\n",
    "        x = MaxPooling1D(pool_size=2)(x)\n",
    "        x = Conv1D(128, 3, strides=1, padding='same', activation='relu')(x)\n",
    "        x = GlobalMaxPooling1D()(x) \n",
    "        outputs = Dense(3, activation='softmax')(x)\n",
    "\n",
    "        model = Model(inputs=inputs, outputs=outputs, name='CNN')\n",
    "    elif architecture == 'lstm':\n",
    "        # LSTM network\n",
    "        inputs = Input(shape=(128,1))\n",
    "\n",
    "        x = Bidirectional(LSTM(64, return_sequences=True),\n",
    "                          merge_mode='concat')(inputs)\n",
    "        x = Dropout(0.2)(x)\n",
    "        x = Flatten()(x)\n",
    "        outputs = Dense(3, activation='softmax')(x)\n",
    "\n",
    "        model = Model(inputs=inputs, outputs=outputs, name='LSTM')\n",
    "    else:\n",
    "        print('Error: Model type not found.')\n",
    "    return model"
   ]
  },
  {
   "cell_type": "code",
   "execution_count": 23,
   "metadata": {},
   "outputs": [],
   "source": [
    "# Define keras model\n",
    "# Using MLP in kernel for speed\n",
    "model = build_model('mlp')\n",
    "# model = build_model('cnn')\n",
    "# model = build_model('lstm')"
   ]
  },
  {
   "cell_type": "code",
   "execution_count": 24,
   "metadata": {},
   "outputs": [
    {
     "name": "stdout",
     "output_type": "stream",
     "text": [
      "not using CNN or LSTM\n"
     ]
    }
   ],
   "source": [
    "# If the model is a CNN then expand the dimensions of the training data\n",
    "if model.name == \"CNN\" or model.name == \"LSTM\":\n",
    "    X_train = np.expand_dims(X_train, axis=2)\n",
    "    X_test = np.expand_dims(X_test, axis=2)\n",
    "    print('Text train shape: ', X_test.shape)\n",
    "    print('Text test shape: ', X_test.shape)\n",
    "else:\n",
    "    print('not using CNN or LSTM')"
   ]
  },
  {
   "cell_type": "code",
   "execution_count": 25,
   "metadata": {},
   "outputs": [
    {
     "name": "stdout",
     "output_type": "stream",
     "text": [
      "_________________________________________________________________\n",
      "Layer (type)                 Output Shape              Param #   \n",
      "=================================================================\n",
      "dense_11 (Dense)             (None, 512)               66048     \n",
      "_________________________________________________________________\n",
      "dropout_9 (Dropout)          (None, 512)               0         \n",
      "_________________________________________________________________\n",
      "dense_12 (Dense)             (None, 512)               262656    \n",
      "_________________________________________________________________\n",
      "dropout_10 (Dropout)         (None, 512)               0         \n",
      "_________________________________________________________________\n",
      "dense_13 (Dense)             (None, 512)               262656    \n",
      "_________________________________________________________________\n",
      "dropout_11 (Dropout)         (None, 512)               0         \n",
      "_________________________________________________________________\n",
      "dense_14 (Dense)             (None, 512)               262656    \n",
      "_________________________________________________________________\n",
      "dropout_12 (Dropout)         (None, 512)               0         \n",
      "_________________________________________________________________\n",
      "dense_15 (Dense)             (None, 3)                 1539      \n",
      "=================================================================\n",
      "Total params: 855,555\n",
      "Trainable params: 855,555\n",
      "Non-trainable params: 0\n",
      "_________________________________________________________________\n"
     ]
    }
   ],
   "source": [
    "model.summary()"
   ]
  },
  {
   "cell_type": "code",
   "execution_count": 26,
   "metadata": {},
   "outputs": [],
   "source": [
    "# Compile the model\n",
    "sgd = SGD(lr=0.01, decay=1e-6, momentum=0.9, nesterov=True)\n",
    "model.compile(optimizer=sgd, loss='categorical_crossentropy', metrics=['acc'])"
   ]
  },
  {
   "cell_type": "markdown",
   "metadata": {},
   "source": [
    "Now we train the model on our train/test set and also include the parameter 'val_split' as 0.2 which takes 20% of the training data and turns it into a validation set."
   ]
  },
  {
   "cell_type": "code",
   "execution_count": 27,
   "metadata": {},
   "outputs": [
    {
     "name": "stdout",
     "output_type": "stream",
     "text": [
      "WARNING:tensorflow:From C:\\Users\\alasseter\\AppData\\Local\\Continuum\\anaconda3\\envs\\keras-env\\lib\\site-packages\\tensorflow\\python\\ops\\math_ops.py:3066: to_int32 (from tensorflow.python.ops.math_ops) is deprecated and will be removed in a future version.\n",
      "Instructions for updating:\n",
      "Use tf.cast instead.\n",
      "Train on 12530 samples, validate on 3133 samples\n",
      "Epoch 1/50\n",
      "12530/12530 [==============================] - 6s 467us/step - loss: 9.4480 - acc: 0.4031 - val_loss: 9.7604 - val_acc: 0.3939\n",
      "Epoch 2/50\n",
      "12530/12530 [==============================] - 4s 344us/step - loss: 9.5781 - acc: 0.4048 - val_loss: 9.7604 - val_acc: 0.3939\n",
      "Epoch 3/50\n",
      "12530/12530 [==============================] - 4s 328us/step - loss: 9.5781 - acc: 0.4048 - val_loss: 9.7605 - val_acc: 0.3939\n",
      "Epoch 4/50\n",
      "12530/12530 [==============================] - 3s 272us/step - loss: 9.5781 - acc: 0.4048 - val_loss: 9.7604 - val_acc: 0.3939\n",
      "Epoch 5/50\n",
      "12530/12530 [==============================] - 5s 382us/step - loss: 9.5781 - acc: 0.4048 - val_loss: 9.7604 - val_acc: 0.3939\n",
      "Epoch 6/50\n",
      "12530/12530 [==============================] - 4s 334us/step - loss: 9.5781 - acc: 0.4048 - val_loss: 9.7604 - val_acc: 0.3939\n",
      "Epoch 7/50\n",
      "12530/12530 [==============================] - 8s 616us/step - loss: 9.5781 - acc: 0.4048 - val_loss: 9.7604 - val_acc: 0.3939\n",
      "Epoch 8/50\n",
      "12530/12530 [==============================] - 6s 500us/step - loss: 9.5780 - acc: 0.4048 - val_loss: 9.7605 - val_acc: 0.3939\n",
      "Epoch 9/50\n",
      "12530/12530 [==============================] - 5s 437us/step - loss: 9.5781 - acc: 0.4048 - val_loss: 9.7605 - val_acc: 0.3939\n",
      "Epoch 10/50\n",
      "12530/12530 [==============================] - 4s 331us/step - loss: 9.5781 - acc: 0.4048 - val_loss: 9.7605 - val_acc: 0.3939\n",
      "Epoch 11/50\n",
      "12530/12530 [==============================] - 7s 578us/step - loss: 9.5780 - acc: 0.4048 - val_loss: 9.7605 - val_acc: 0.3939\n",
      "Epoch 12/50\n",
      "12530/12530 [==============================] - 4s 323us/step - loss: 9.5781 - acc: 0.4048 - val_loss: 9.7605 - val_acc: 0.3939\n",
      "Epoch 13/50\n",
      "12530/12530 [==============================] - 5s 410us/step - loss: 9.5781 - acc: 0.4048 - val_loss: 9.7605 - val_acc: 0.3939\n",
      "Epoch 14/50\n",
      "12530/12530 [==============================] - 5s 400us/step - loss: 9.5781 - acc: 0.4048 - val_loss: 9.7605 - val_acc: 0.3939\n",
      "Epoch 15/50\n",
      "12530/12530 [==============================] - 4s 300us/step - loss: 9.5781 - acc: 0.4048 - val_loss: 9.7605 - val_acc: 0.3939\n",
      "Epoch 16/50\n",
      "12530/12530 [==============================] - 3s 261us/step - loss: 9.5781 - acc: 0.4048 - val_loss: 9.7605 - val_acc: 0.3939\n",
      "Epoch 17/50\n",
      "12530/12530 [==============================] - 4s 307us/step - loss: 9.5781 - acc: 0.4048 - val_loss: 9.7605 - val_acc: 0.3939\n",
      "Epoch 18/50\n",
      "12530/12530 [==============================] - 5s 362us/step - loss: 9.5780 - acc: 0.4048 - val_loss: 9.7605 - val_acc: 0.3939\n",
      "Epoch 19/50\n",
      "12530/12530 [==============================] - 4s 314us/step - loss: 9.5781 - acc: 0.4048 - val_loss: 9.7605 - val_acc: 0.3939\n",
      "Epoch 20/50\n",
      "12530/12530 [==============================] - 4s 293us/step - loss: 9.5781 - acc: 0.4048 - val_loss: 9.7605 - val_acc: 0.3939\n",
      "Epoch 21/50\n",
      "12530/12530 [==============================] - 4s 338us/step - loss: 9.5781 - acc: 0.4048 - val_loss: 9.7605 - val_acc: 0.3939\n",
      "Epoch 22/50\n",
      "12530/12530 [==============================] - 5s 424us/step - loss: 9.5780 - acc: 0.4048 - val_loss: 9.7605 - val_acc: 0.3939\n",
      "Epoch 23/50\n",
      "12530/12530 [==============================] - 5s 395us/step - loss: 9.5780 - acc: 0.4048 - val_loss: 9.7605 - val_acc: 0.3939ac\n",
      "Epoch 24/50\n",
      "12530/12530 [==============================] - 5s 381us/step - loss: 9.5781 - acc: 0.4048 - val_loss: 9.7605 - val_acc: 0.3939\n",
      "Epoch 25/50\n",
      "12530/12530 [==============================] - 4s 302us/step - loss: 9.5780 - acc: 0.4048 - val_loss: 9.7605 - val_acc: 0.3939\n",
      "Epoch 26/50\n",
      "12530/12530 [==============================] - 3s 261us/step - loss: 9.5781 - acc: 0.4048 - val_loss: 9.7605 - val_acc: 0.3939\n",
      "Epoch 27/50\n",
      "12530/12530 [==============================] - 4s 284us/step - loss: 9.5781 - acc: 0.4048 - val_loss: 9.7605 - val_acc: 0.3939\n",
      "Epoch 28/50\n",
      "12530/12530 [==============================] - 3s 265us/step - loss: 9.5781 - acc: 0.4048 - val_loss: 9.7605 - val_acc: 0.3939\n",
      "Epoch 29/50\n",
      "12530/12530 [==============================] - 3s 264us/step - loss: 9.5781 - acc: 0.4048 - val_loss: 9.7605 - val_acc: 0.3939\n",
      "Epoch 30/50\n",
      "12530/12530 [==============================] - 3s 272us/step - loss: 9.5780 - acc: 0.4048 - val_loss: 9.7605 - val_acc: 0.3939\n",
      "Epoch 31/50\n",
      "12530/12530 [==============================] - 5s 371us/step - loss: 9.5780 - acc: 0.4048 - val_loss: 9.7605 - val_acc: 0.3939\n",
      "Epoch 32/50\n",
      "12530/12530 [==============================] - 4s 284us/step - loss: 9.5780 - acc: 0.4048 - val_loss: 9.7605 - val_acc: 0.3939\n",
      "Epoch 33/50\n",
      "12530/12530 [==============================] - 5s 381us/step - loss: 9.5781 - acc: 0.4048 - val_loss: 9.7605 - val_acc: 0.3939\n",
      "Epoch 34/50\n",
      "12530/12530 [==============================] - 5s 432us/step - loss: 9.5780 - acc: 0.4048 - val_loss: 9.7605 - val_acc: 0.3939\n",
      "Epoch 35/50\n",
      "12530/12530 [==============================] - 6s 514us/step - loss: 9.5780 - acc: 0.4048 - val_loss: 9.7605 - val_acc: 0.3939\n",
      "Epoch 36/50\n",
      "12530/12530 [==============================] - 6s 483us/step - loss: 9.5780 - acc: 0.4048 - val_loss: 9.7605 - val_acc: 0.3939\n",
      "Epoch 37/50\n",
      "12530/12530 [==============================] - 10s 824us/step - loss: 9.5780 - acc: 0.4048 - val_loss: 9.7605 - val_acc: 0.3939\n",
      "Epoch 38/50\n",
      "12530/12530 [==============================] - 6s 442us/step - loss: 9.5781 - acc: 0.4048 - val_loss: 9.7605 - val_acc: 0.3939\n",
      "Epoch 39/50\n",
      "12530/12530 [==============================] - 5s 399us/step - loss: 9.5780 - acc: 0.4048 - val_loss: 9.7605 - val_acc: 0.3939\n",
      "Epoch 40/50\n",
      "12530/12530 [==============================] - 8s 636us/step - loss: 9.5780 - acc: 0.4048 - val_loss: 9.7605 - val_acc: 0.3939\n",
      "Epoch 41/50\n",
      "12530/12530 [==============================] - 7s 567us/step - loss: 9.5780 - acc: 0.4048 - val_loss: 9.7605 - val_acc: 0.3939\n",
      "Epoch 42/50\n",
      "12530/12530 [==============================] - 5s 382us/step - loss: 9.5780 - acc: 0.4048 - val_loss: 9.7605 - val_acc: 0.3939\n",
      "Epoch 43/50\n",
      "12530/12530 [==============================] - 5s 365us/step - loss: 9.5780 - acc: 0.4048 - val_loss: 9.7605 - val_acc: 0.3939\n",
      "Epoch 44/50\n",
      "12530/12530 [==============================] - 5s 370us/step - loss: 9.5781 - acc: 0.4048 - val_loss: 9.7605 - val_acc: 0.3939\n",
      "Epoch 45/50\n",
      "12530/12530 [==============================] - 5s 394us/step - loss: 9.5780 - acc: 0.4048 - val_loss: 9.7605 - val_acc: 0.3939\n",
      "Epoch 46/50\n",
      "12530/12530 [==============================] - 5s 364us/step - loss: 9.5780 - acc: 0.4048 - val_loss: 9.7605 - val_acc: 0.3939\n",
      "Epoch 47/50\n",
      "12530/12530 [==============================] - 5s 420us/step - loss: 9.5780 - acc: 0.4048 - val_loss: 9.7605 - val_acc: 0.3939\n",
      "Epoch 48/50\n",
      "12530/12530 [==============================] - 7s 519us/step - loss: 9.5781 - acc: 0.4048 - val_loss: 9.7605 - val_acc: 0.3939\n",
      "Epoch 49/50\n",
      "12530/12530 [==============================] - 5s 408us/step - loss: 9.5781 - acc: 0.4048 - val_loss: 9.7605 - val_acc: 0.3939\n",
      "Epoch 50/50\n",
      "12530/12530 [==============================] - 6s 440us/step - loss: 9.5781 - acc: 0.4048 - val_loss: 9.7605 - val_acc: 0.3939\n"
     ]
    }
   ],
   "source": [
    "# Define number of epochs\n",
    "epochs = 50\n",
    "\n",
    "# Fit the model to the training data\n",
    "estimator = model.fit(X_train, y_train,\n",
    "                      validation_split=0.2,\n",
    "                      epochs=epochs, batch_size=128, verbose=1)"
   ]
  },
  {
   "cell_type": "code",
   "execution_count": 28,
   "metadata": {},
   "outputs": [
    {
     "name": "stdout",
     "output_type": "stream",
     "text": [
      "Training accuracy: 40.48% / Validation accuracy: 39.39%\n"
     ]
    }
   ],
   "source": [
    "print(\"Training accuracy: %.2f%% / Validation accuracy: %.2f%%\" % \n",
    "      (100*estimator.history['acc'][-1], 100*estimator.history['val_acc'][-1]))"
   ]
  },
  {
   "cell_type": "code",
   "execution_count": 29,
   "metadata": {},
   "outputs": [
    {
     "name": "stderr",
     "output_type": "stream",
     "text": [
      "C:\\Users\\alasseter\\AppData\\Local\\Continuum\\anaconda3\\envs\\keras-env\\lib\\site-packages\\matplotlib\\__init__.py:855: MatplotlibDeprecationWarning: \n",
      "examples.directory is deprecated; in the future, examples will be found relative to the 'datapath' directory.\n",
      "  \"found relative to the 'datapath' directory.\".format(key))\n",
      "C:\\Users\\alasseter\\AppData\\Local\\Continuum\\anaconda3\\envs\\keras-env\\lib\\site-packages\\matplotlib\\__init__.py:846: MatplotlibDeprecationWarning: \n",
      "The text.latex.unicode rcparam was deprecated in Matplotlib 2.2 and will be removed in 3.1.\n",
      "  \"2.2\", name=key, obj_type=\"rcparam\", addendum=addendum)\n"
     ]
    },
    {
     "data": {
      "image/png": "[encoded data removed]",
      "text/plain": [
       "<Figure size 640x480 with 1 Axes>"
      ]
     },
     "metadata": {},
     "output_type": "display_data"
    }
   ],
   "source": [
    "# Plot model accuracy over epochs\n",
    "sns.reset_orig()   # Reset seaborn settings to get rid of black background\n",
    "plt.plot(estimator.history['acc'])\n",
    "plt.plot(estimator.history['val_acc'])\n",
    "plt.title('model accuracy')\n",
    "plt.ylabel('accuracy')\n",
    "plt.xlabel('epoch')\n",
    "plt.legend(['train', 'valid'], loc='upper left')\n",
    "plt.show()"
   ]
  },
  {
   "cell_type": "code",
   "execution_count": 30,
   "metadata": {},
   "outputs": [
    {
     "data": {
      "image/png": "[encoded data removed]",
      "text/plain": [
       "<Figure size 640x480 with 1 Axes>"
      ]
     },
     "metadata": {},
     "output_type": "display_data"
    }
   ],
   "source": [
    "# Plot model loss over epochs\n",
    "plt.plot(estimator.history['loss'])\n",
    "plt.plot(estimator.history['val_loss'])\n",
    "plt.title('model loss')\n",
    "plt.ylabel('loss')\n",
    "plt.xlabel('epoch')\n",
    "plt.legend(['train', 'valid'], loc='upper left')\n",
    "plt.show()"
   ]
  },
  {
   "cell_type": "markdown",
   "metadata": {},
   "source": [
    "#### Using spaCy word vectors\n",
    "For MLP architecture: From the plot above we can see the model starts to overfit the training data early around the fifth epoch. The validation accuracy stays stable for the rest of the training and the loss goes up as training goes on.\n",
    "\n",
    "For CNN architecture: Both the training and validation accuracy go up as training goes on. The loss also goes down continuously. With more epochs the loss would probably continue to go down until eventually saturating. Some more parameter tweaking and could also lead to a lower log loss score.\n",
    "\n",
    "For LSTM architecture: The training accuracy is 58.90% and the validation accuracy is 58.60%. From the model accuracy plot above we can see both accuracies rise and continue to rise until the final epoch. The model losses also go down continuously indicating that more epochs will lead to a better performance."
   ]
  },
  {
   "cell_type": "code",
   "execution_count": 32,
   "metadata": {},
   "outputs": [
    {
     "name": "stdout",
     "output_type": "stream",
     "text": [
      "(3916, 3)\n"
     ]
    }
   ],
   "source": [
    "# Make predictions\n",
    "predicted_prob = model.predict(X_test)\n",
    "print(predicted_prob.shape)"
   ]
  },
  {
   "cell_type": "code",
   "execution_count": 35,
   "metadata": {},
   "outputs": [
    {
     "name": "stdout",
     "output_type": "stream",
     "text": [
      "Log loss is: 20.421391948951033\n"
     ]
    }
   ],
   "source": [
    "# Report log loss and score\n",
    "loss_sk = log_loss(y_test, predicted_prob)\n",
    "print('Log loss is: {}'.format(loss_sk))"
   ]
  },
  {
   "cell_type": "markdown",
   "metadata": {},
   "source": [
    "#### Using spaCy word vectors\n",
    "The log loss for the MLP architecture is about 1.1416 which is not too bad, but can definitely be improved with parameter tweaking (number of neurons, number of layers, kernel initialization, dropout rate, etc.).\n",
    "\n",
    "Meanwhile the log loss for the CNN architecture is about 0.952 and is an improvement over the basic MLP architecture. Again, parameter tweaking will probably lead to better results and although CNNs perform well on computer vision problems they also have a lot of uses in natural language processing.\n",
    "\n",
    "However a lot of times recurrent neural networks (RNN), in particular long short term memory (LSTM), produce the best results. Using a LSTM architecture, the model acheived a log loss score of 0.9303. This is the best score out of all three architectures. This was also using only one hidden layer which was a bidirectional lstm layer with 64 memory units. Adding more memory units and layers and tweaking the dropout rate will probably lead to better results. Increasing the number of epochs will also lead to better results however it will increase the training time."
   ]
  },
  {
   "cell_type": "markdown",
   "metadata": {},
   "source": [
    "Here are some useful links to learn more about neural networks and their uses for natural language processing:\n",
    "\n",
    "Primer on nerual networks and NLP: https://arxiv.org/abs/1510.00726\n",
    "\n",
    "Understanding LSTM networks: http://colah.github.io/posts/2015-08-Understanding-LSTMs/"
   ]
  },
  {
   "cell_type": "code",
   "execution_count": null,
   "metadata": {},
   "outputs": [],
   "source": []
  }
 ],
 "metadata": {
  "kernelspec": {
   "display_name": "Python (keras-env)",
   "language": "python",
   "name": "keras-env"
  },
  "language_info": {
   "codemirror_mode": {
    "name": "ipython",
    "version": 3
   },
   "file_extension": ".py",
   "mimetype": "text/x-python",
   "name": "python",
   "nbconvert_exporter": "python",
   "pygments_lexer": "ipython3",
   "version": "3.7.3"
  }
 },
 "nbformat": 4,
 "nbformat_minor": 2
}
