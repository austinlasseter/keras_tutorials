{
 "cells": [
  {
   "cell_type": "code",
   "execution_count": 1,
   "metadata": {},
   "outputs": [],
   "source": [
    "from sklearn import model_selection, linear_model, naive_bayes, metrics\n",
    "from sklearn.feature_extraction.text import TfidfVectorizer, CountVectorizer\n",
    "from sklearn.svm import LinearSVC\n",
    "\n",
    "import pandas as pd\n",
    "import numpy as np\n",
    "\n",
    "import warnings \n",
    "warnings.filterwarnings(action = 'ignore') "
   ]
  },
  {
   "cell_type": "code",
   "execution_count": 2,
   "metadata": {},
   "outputs": [],
   "source": [
    "# Import pre-cleaned dataset\n",
    "input_prefix = '20newsgroups_pols_cleaned_nh'\n",
    "\n",
    "df_train = pd.read_csv(input_prefix + '_train.csv')\n",
    "df_test = pd.read_csv(input_prefix + '_test.csv')"
   ]
  },
  {
   "cell_type": "code",
   "execution_count": 3,
   "metadata": {},
   "outputs": [],
   "source": [
    "# Split text back into tokens\n",
    "X_train = [text.split(' ') for text in df_train.text]\n",
    "X_test = [text.split(' ') for text in df_test.text]"
   ]
  },
  {
   "cell_type": "code",
   "execution_count": 4,
   "metadata": {},
   "outputs": [],
   "source": [
    "# Split of targets\n",
    "y_train = df_train['target']\n",
    "y_test = df_test['target']"
   ]
  },
  {
   "cell_type": "code",
   "execution_count": 5,
   "metadata": {},
   "outputs": [],
   "source": [
    "# Set up TFIDF vectorizing model\n",
    "tfidf_vect_ngram = TfidfVectorizer(analyzer='word', token_pattern=r'\\w{1,}', ngram_range=(1,6))\n",
    "tfidf_vect_ngram.fit(df_train['text'])\n",
    "\n",
    "# Vectorize text tokens\n",
    "X_train_tfidf_ngram =  tfidf_vect_ngram.transform(df_train['text'])\n",
    "X_test_tfidf_ngram =  tfidf_vect_ngram.transform(df_test['text'])\n",
    "\n",
    "# Get array of feature names (words) from TFIDF Vectorizer\n",
    "tfidf_feat_names = np.array(tfidf_vect_ngram.get_feature_names())"
   ]
  },
  {
   "cell_type": "code",
   "execution_count": 6,
   "metadata": {},
   "outputs": [
    {
     "name": "stdout",
     "output_type": "stream",
     "text": [
      "LR Mean Vectors:  0.8324365872405841\n"
     ]
    },
    {
     "data": {
      "text/plain": [
       "array([[348,   2,  12,   2],\n",
       "       [ 10, 359,   7,   0],\n",
       "       [106,  10, 192,   2],\n",
       "       [ 34,  14,  19, 184]], dtype=int64)"
      ]
     },
     "execution_count": 6,
     "metadata": {},
     "output_type": "execute_result"
    }
   ],
   "source": [
    "# Instantiate Linear Logistic Regression Classifier\n",
    "lr_clf_1 = linear_model.LogisticRegression()\n",
    "\n",
    "# Linear Logistic Regression on TFIDF Vectors\n",
    "lr_model_1 = lr_clf_1.fit(X_train_tfidf_ngram, y_train)\n",
    "lr_preds_1 = lr_model_1.predict(X_test_tfidf_ngram)\n",
    "\n",
    "lr_accuracy_1 = metrics.accuracy_score(lr_preds_1, y_test)\n",
    "\n",
    "print('LR Mean Vectors: ', lr_accuracy_1)\n",
    "metrics.confusion_matrix(y_test, lr_preds_1)"
   ]
  },
  {
   "cell_type": "code",
   "execution_count": 7,
   "metadata": {},
   "outputs": [
    {
     "name": "stdout",
     "output_type": "stream",
     "text": [
      "SVC Mean Vectors:  0.8554957724827056\n"
     ]
    },
    {
     "data": {
      "text/plain": [
       "array([[340,   1,  16,   7],\n",
       "       [ 10, 344,  18,   4],\n",
       "       [ 85,   4, 213,   8],\n",
       "       [ 15,   4,  16, 216]], dtype=int64)"
      ]
     },
     "execution_count": 7,
     "metadata": {},
     "output_type": "execute_result"
    }
   ],
   "source": [
    "# Instantiate SVC Classifier\n",
    "svc_clf_1 = LinearSVC()\n",
    "\n",
    "# SVC on TFIDF Vectors\n",
    "svc_model_1 = svc_clf_1.fit(X_train_tfidf_ngram, y_train)\n",
    "svc_preds_1 = svc_model_1.predict(X_test_tfidf_ngram)\n",
    "\n",
    "svc_accuracy_1 = metrics.accuracy_score(svc_preds_1, y_test)\n",
    "\n",
    "print('SVC Mean Vectors: ', svc_accuracy_1)\n",
    "metrics.confusion_matrix(y_test, svc_preds_1)"
   ]
  },
  {
   "cell_type": "code",
   "execution_count": 8,
   "metadata": {},
   "outputs": [
    {
     "name": "stdout",
     "output_type": "stream",
     "text": [
      "NB, Count Vectors:  0.7893927747886241\n"
     ]
    },
    {
     "data": {
      "text/plain": [
       "array([[354,   7,   3,   0],\n",
       "       [  8, 368,   0,   0],\n",
       "       [113,  17, 180,   0],\n",
       "       [ 67,  51,   8, 125]], dtype=int64)"
      ]
     },
     "execution_count": 8,
     "metadata": {},
     "output_type": "execute_result"
    }
   ],
   "source": [
    "# Instantiate Naive Bayes Classifier\n",
    "nb_clf_1 = naive_bayes.MultinomialNB()\n",
    "\n",
    "# Naive Bayes  on TFIDF Vectors\n",
    "nb_model_1 = nb_clf_1.fit(X_train_tfidf_ngram, y_train)\n",
    "nb_preds_1 = nb_model_1.predict(X_test_tfidf_ngram)\n",
    "\n",
    "nb_accuracy_1 = metrics.accuracy_score(nb_preds_1, y_test)\n",
    "\n",
    "print('NB, Count Vectors: ', nb_accuracy_1)\n",
    "metrics.confusion_matrix(y_test, nb_preds_1)"
   ]
  },
  {
   "cell_type": "code",
   "execution_count": 9,
   "metadata": {},
   "outputs": [
    {
     "name": "stdout",
     "output_type": "stream",
     "text": [
      "Most important words for category 0 (guns)\n",
      "['gun' 'weapon' 'firearm' 'fire' 'handgun' 'militia' 'fbi' 'batf'\n",
      " 'criminal' 'nra'] \n",
      "\n",
      "Most important words for category 1 (mideast)\n",
      "['israel' 'israeli' 'jews' 'turkish' 'armenians' 'armenian' 'arab'\n",
      " 'turkey' 'armenia' 'jewish'] \n",
      "\n",
      "Most important words for category 2 (misc politics)\n",
      "['tax' 'president' 'cramer' 'drug' 'clinton' 'optilink' 'kaldis' 'gay'\n",
      " 'homosexual' 'job'] \n",
      "\n",
      "Most important words for category 3 (religion)\n",
      "['god' 'jesus' 'christian' 'bible' 'objective' 'morality' 'critus'\n",
      " 'sandvik' 'christians' 'religion']\n"
     ]
    }
   ],
   "source": [
    "# Get a list of the most important words for each category using TFIDF and \n",
    "# the SVC model\n",
    "print('Most important words for category 0 (guns)')\n",
    "print(tfidf_feat_names[np.argsort(-svc_model_1.coef_[0,:])[0:10]], '\\n')\n",
    "\n",
    "print('Most important words for category 1 (mideast)')\n",
    "print(tfidf_feat_names[np.argsort(-svc_model_1.coef_[1,:])[0:10]], '\\n')\n",
    "\n",
    "print('Most important words for category 2 (misc politics)')\n",
    "print(tfidf_feat_names[np.argsort(-svc_model_1.coef_[2,:])[0:10]], '\\n')\n",
    "\n",
    "print('Most important words for category 3 (religion)')\n",
    "print(tfidf_feat_names[np.argsort(-svc_model_1.coef_[3,:])[0:10]])"
   ]
  },
  {
   "cell_type": "code",
   "execution_count": null,
   "metadata": {},
   "outputs": [],
   "source": []
  },
  {
   "cell_type": "code",
   "execution_count": 10,
   "metadata": {},
   "outputs": [],
   "source": [
    "# Create a count vectorizer object \n",
    "count_vect = CountVectorizer(analyzer='word', token_pattern=r'\\w{1,}', ngram_range=(1,6))\n",
    "count_vect.fit(df_train['text'])\n",
    "\n",
    "# Transform the training and test data using count vectorizer object\n",
    "X_train_count =  count_vect.transform(df_train['text'])\n",
    "X_test_count =  count_vect.transform(df_test['text'])\n",
    "\n",
    "# Get list of feature names (words) from Count Vectorizer\n",
    "count_feat_names = count_vect.get_feature_names()"
   ]
  },
  {
   "cell_type": "code",
   "execution_count": 11,
   "metadata": {},
   "outputs": [
    {
     "name": "stdout",
     "output_type": "stream",
     "text": [
      "LR Mean Vectors:  0.8124519600307456\n"
     ]
    },
    {
     "data": {
      "text/plain": [
       "array([[312,   7,  28,  17],\n",
       "       [ 11, 329,  26,  10],\n",
       "       [ 87,   4, 199,  20],\n",
       "       [ 15,   4,  15, 217]], dtype=int64)"
      ]
     },
     "execution_count": 11,
     "metadata": {},
     "output_type": "execute_result"
    }
   ],
   "source": [
    "# Instantiate Linear Logistic Regression Classifier\n",
    "lr_clf_2 = linear_model.LogisticRegression()\n",
    "\n",
    "# Linear Logistic Regression on Count Vectors\n",
    "lr_model_2 = lr_clf_2.fit(X_train_count, y_train)\n",
    "lr_preds_2 = lr_model_2.predict(X_test_count)\n",
    "\n",
    "lr_accuracy_2 = metrics.accuracy_score(lr_preds_2, y_test)\n",
    "\n",
    "print('LR Mean Vectors: ', lr_accuracy_2)\n",
    "metrics.confusion_matrix(y_test, lr_preds_2)"
   ]
  },
  {
   "cell_type": "code",
   "execution_count": 12,
   "metadata": {},
   "outputs": [
    {
     "name": "stdout",
     "output_type": "stream",
     "text": [
      "SVC Mean Vectors:  0.7632590315142198\n"
     ]
    },
    {
     "data": {
      "text/plain": [
       "array([[287,  11,  30,  36],\n",
       "       [ 16, 295,  37,  28],\n",
       "       [ 71,   8, 194,  37],\n",
       "       [ 12,   5,  17, 217]], dtype=int64)"
      ]
     },
     "execution_count": 12,
     "metadata": {},
     "output_type": "execute_result"
    }
   ],
   "source": [
    "# Instantiate SVC Classifier\n",
    "svc_clf_2 = LinearSVC()\n",
    "\n",
    "# SVC on Count Vectors\n",
    "svc_model_2 = svc_clf_2.fit(X_train_count, y_train)\n",
    "svc_preds_2 = svc_model_2.predict(X_test_count)\n",
    "\n",
    "svc_accuracy_2 = metrics.accuracy_score(svc_preds_2, y_test)\n",
    "\n",
    "print('SVC Mean Vectors: ', svc_accuracy_2)\n",
    "metrics.confusion_matrix(y_test, svc_preds_2)"
   ]
  },
  {
   "cell_type": "code",
   "execution_count": 13,
   "metadata": {},
   "outputs": [
    {
     "name": "stdout",
     "output_type": "stream",
     "text": [
      "NB, Count Vectors:  0.8608762490392006\n"
     ]
    },
    {
     "data": {
      "text/plain": [
       "array([[337,   5,  16,   6],\n",
       "       [  3, 361,  12,   0],\n",
       "       [ 69,  15, 223,   3],\n",
       "       [ 23,  12,  17, 199]], dtype=int64)"
      ]
     },
     "execution_count": 13,
     "metadata": {},
     "output_type": "execute_result"
    }
   ],
   "source": [
    "# Instantiate Naive Bayes Classifier\n",
    "nb_clf_2 = naive_bayes.MultinomialNB()\n",
    "\n",
    "# Naive Bayes on Count Vectors\n",
    "nb_model_2 = nb_clf_2.fit(X_train_count, y_train)\n",
    "nb_preds_2 = nb_model_2.predict(X_test_count)\n",
    "\n",
    "nb_accuracy_2 = metrics.accuracy_score(nb_preds_2, y_test)\n",
    "\n",
    "print('NB, Count Vectors: ', nb_accuracy_2)\n",
    "metrics.confusion_matrix(y_test, nb_preds_2)"
   ]
  },
  {
   "cell_type": "code",
   "execution_count": 14,
   "metadata": {},
   "outputs": [
    {
     "name": "stdout",
     "output_type": "stream",
     "text": [
      "Most important words for category 0 (guns)\n",
      "['pron' 'gun' 'not' 'the' 'be' 'edu' 's' 'in' 'people' 'write'] \n",
      "\n",
      "Most important words for category 1 (mideast)\n",
      "['pron' 'the' 'not' 'be' 'people' 'in' 'say' 'israel' 's' 'write'] \n",
      "\n",
      "Most important words for category 2 (misc politics)\n",
      "['pron' 'be' 'not' 'the' 'in' 's' 'edu' 'people' 'write' 'q'] \n",
      "\n",
      "Most important words for category 3 (religion)\n",
      "['pron' 'not' 'the' 'be' 'write' 'in' 'god' 'people' 's' 'edu']\n"
     ]
    }
   ],
   "source": [
    "# Get a list of the most important words for each category using BOW and \n",
    "# the Naive Bayes model\n",
    "print('Most important words for category 0 (guns)')\n",
    "print(tfidf_feat_names[np.argsort(-nb_model_2.coef_[0,:])[0:10]], '\\n')\n",
    "\n",
    "print('Most important words for category 1 (mideast)')\n",
    "print(tfidf_feat_names[np.argsort(-nb_model_2.coef_[1,:])[0:10]], '\\n')\n",
    "\n",
    "print('Most important words for category 2 (misc politics)')\n",
    "print(tfidf_feat_names[np.argsort(-nb_model_2.coef_[2,:])[0:10]], '\\n')\n",
    "\n",
    "print('Most important words for category 3 (religion)')\n",
    "print(tfidf_feat_names[np.argsort(-nb_model_2.coef_[3,:])[0:10]])"
   ]
  },
  {
   "cell_type": "code",
   "execution_count": null,
   "metadata": {},
   "outputs": [],
   "source": []
  }
 ],
 "metadata": {
  "kernelspec": {
   "display_name": "Python 3",
   "language": "python",
   "name": "python3"
  },
  "language_info": {
   "codemirror_mode": {
    "name": "ipython",
    "version": 3
   },
   "file_extension": ".py",
   "mimetype": "text/x-python",
   "name": "python",
   "nbconvert_exporter": "python",
   "pygments_lexer": "ipython3",
   "version": "3.6.7"
  }
 },
 "nbformat": 4,
 "nbformat_minor": 2
}
